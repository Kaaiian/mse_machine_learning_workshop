{
 "cells": [
  {
   "cell_type": "markdown",
   "metadata": {},
   "source": [
    "## Import Packages to use in machine learning ## "
   ]
  },
  {
   "cell_type": "code",
   "execution_count": 1,
   "metadata": {},
   "outputs": [],
   "source": [
    "# import premade functions\n",
    "import MSE_ML_functions\n",
    "\n",
    "# import general python packages\n",
    "import pandas as pd\n",
    "import numpy as np\n",
    "import matplotlib.pyplot as plt\n",
    "import seaborn as sns\n",
    "from scipy.stats import norm\n",
    "%matplotlib inline\n",
    "\n",
    "# import machine learning packages\n",
    "from sklearn.ensemble import RandomForestRegressor\n",
    "from sklearn.svm import SVR\n",
    "from sklearn.metrics import mean_squared_error\n",
    "from sklearn import model_selection\n",
    "from sklearn import preprocessing"
   ]
  },
  {
   "cell_type": "markdown",
   "metadata": {},
   "source": [
    "## Read in data we want to do machine learning on ##"
   ]
  },
  {
   "cell_type": "code",
   "execution_count": 2,
   "metadata": {},
   "outputs": [
    {
     "data": {
      "text/html": [
       "<div>\n",
       "<style scoped>\n",
       "    .dataframe tbody tr th:only-of-type {\n",
       "        vertical-align: middle;\n",
       "    }\n",
       "\n",
       "    .dataframe tbody tr th {\n",
       "        vertical-align: top;\n",
       "    }\n",
       "\n",
       "    .dataframe thead th {\n",
       "        text-align: right;\n",
       "    }\n",
       "</style>\n",
       "<table border=\"1\" class=\"dataframe\">\n",
       "  <thead>\n",
       "    <tr style=\"text-align: right;\">\n",
       "      <th></th>\n",
       "      <th>composition</th>\n",
       "      <th>Eg (eV)</th>\n",
       "    </tr>\n",
       "  </thead>\n",
       "  <tbody>\n",
       "    <tr>\n",
       "      <th>0</th>\n",
       "      <td>Hg0.7Cd0.3Te</td>\n",
       "      <td>0.350</td>\n",
       "    </tr>\n",
       "    <tr>\n",
       "      <th>1</th>\n",
       "      <td>CuBr</td>\n",
       "      <td>3.077</td>\n",
       "    </tr>\n",
       "    <tr>\n",
       "      <th>2</th>\n",
       "      <td>LuP</td>\n",
       "      <td>1.300</td>\n",
       "    </tr>\n",
       "    <tr>\n",
       "      <th>3</th>\n",
       "      <td>Cu3SbSe4</td>\n",
       "      <td>0.400</td>\n",
       "    </tr>\n",
       "    <tr>\n",
       "      <th>4</th>\n",
       "      <td>ZnO</td>\n",
       "      <td>3.436</td>\n",
       "    </tr>\n",
       "  </tbody>\n",
       "</table>\n",
       "</div>"
      ],
      "text/plain": [
       "    composition  Eg (eV)\n",
       "0  Hg0.7Cd0.3Te    0.350\n",
       "1          CuBr    3.077\n",
       "2           LuP    1.300\n",
       "3      Cu3SbSe4    0.400\n",
       "4           ZnO    3.436"
      ]
     },
     "execution_count": 2,
     "metadata": {},
     "output_type": "execute_result"
    }
   ],
   "source": [
    "# we can read in the excel sheet using the pandas package\n",
    "df = pd.read_excel(r'band_gap_nonmetal.xlsx')\n",
    "df.head()"
   ]
  },
  {
   "cell_type": "markdown",
   "metadata": {},
   "source": [
    "## Convert the chemical formula into feature vector ##"
   ]
  },
  {
   "cell_type": "code",
   "execution_count": 3,
   "metadata": {
    "scrolled": true
   },
   "outputs": [
    {
     "name": "stdout",
     "output_type": "stream",
     "text": [
      "avg_1st_ionization_potential_(kJ/mol): 873.5\n",
      "avg_Allred-Rockow_electronegativity: 1.87\n",
      "avg_Atomic_Concentration(1e-23_cm-3): nan\n",
      "avg_Atomic_Number: 14.0\n",
      "avg_Atomic_Radus: 1.345\n",
      "avg_Atomic_Weight: 29.22\n",
      "avg_B(Gpa): 3.95\n",
      "avg_Boiling_Point_(K): 697.35\n",
      "avg_Cohesive_energy: 1.255\n",
      "avg_Covalent_Radius: 1.2650000000000001\n",
      "avg_Critical_Temperature: 1494.98\n",
      "avg_Density_(g/mL): 0.485\n",
      "avg_G: nan\n",
      "avg_Gordy_electonegativity: 4.6899999999999995\n",
      "avg_High_Temp_Debye(K): nan\n",
      "avg_Low_Temp_Debye(K): nan\n",
      "avg_MB_electonegativity: 1.935\n",
      "avg_Melting_point_(K): 271.55\n",
      "avg_Mendele_Number: 48.0\n",
      "avg_Miracle_Radius_[pm]: nan\n",
      "avg_Molar_Denstiy_(mol/ml): 0.02\n",
      "avg_Molar_Heat_Capacity(J/mol_K): 22.65\n",
      "avg_Mulliken_EN: 5.575\n",
      "avg_Nagle_electonegativity: 1.8849999999999998\n",
      "avg_Nearest_Neighbor_Distance(pm): 284.0\n",
      "avg_Number_of_unfilled_d_valence_electrons: 10.0\n",
      "avg_Number_of_unfilled_f_valence_electrons: 14.0\n",
      "avg_Number_of_unfilled_p_valence_electrons: 3.5\n",
      "avg_Number_of_unfilled_s_valence_electrons: 0.5\n",
      "avg_Orbital_Radius(pm): 121.9\n",
      "avg_Pauling_Electronegativity: 2.045\n",
      "avg_Pearson_abs_electonegativity: 5.575\n",
      "avg_Period: 3.0\n",
      "avg_Work_function: nan\n",
      "avg_Zunger_radii_sum: 1.83\n",
      "avg_abs_valence: 3.0\n",
      "avg_crystal_radius: 1.415\n",
      "avg_families: 4.5\n",
      "avg_gilmor_number_of_valence_electron: 4.0\n",
      "avg_group: 9.0\n",
      "avg_heat_atomization(kJ/mol): 115.0\n",
      "avg_heat_of_fusion_(kJ/mol)_: 2.915\n",
      "avg_heat_of_vaporization_(kJ/mol)_: 53.58\n",
      "avg_ionic_radius: 1.4\n",
      "avg_l_quantum_number: 0.5\n",
      "avg_metallic_valence: 0.5\n",
      "avg_number_of_valence_electrons: 4.0\n",
      "avg_nws(e/au3): nan\n",
      "avg_outer_shell_electrons: 4.0\n",
      "avg_polarizability(A^3): 12.9\n",
      "avg_specific_heat_(J/g_K)_: 0.855\n",
      "avg_thermal_conductivity_(W/(m_K))_: 70.505\n",
      "avg_valence_d: 0.0\n",
      "avg_valence_f: 0.0\n",
      "avg_valence_p: 2.5\n",
      "avg_valence_s: 1.5\n",
      "avg_volume(10-6m3): nan\n",
      "sum_1st_ionization_potential_(kJ/mol): 1747.0\n",
      "sum_Allred-Rockow_electronegativity: 3.74\n",
      "sum_Atomic_Concentration(1e-23_cm-3): nan\n",
      "sum_Atomic_Number: 28.0\n",
      "sum_Atomic_Radus: 2.69\n",
      "sum_Atomic_Weight: 58.44\n",
      "sum_B(Gpa): 7.9\n",
      "sum_Boiling_Point_(K): 1394.7\n",
      "sum_Cohesive_energy: 2.51\n",
      "sum_Covalent_Radius: 2.5300000000000002\n",
      "sum_Critical_Temperature: 2989.96\n",
      "sum_Density_(g/mL): 0.97\n",
      "sum_G: nan\n",
      "sum_Gordy_electonegativity: 9.379999999999999\n",
      "sum_High_Temp_Debye(K): nan\n",
      "sum_Low_Temp_Debye(K): nan\n",
      "sum_MB_electonegativity: 3.87\n",
      "sum_Melting_point_(K): 543.1\n",
      "sum_Mendele_Number: 96.0\n",
      "sum_Miracle_Radius_[pm]: nan\n",
      "sum_Molar_Denstiy_(mol/ml): 0.04\n",
      "sum_Molar_Heat_Capacity(J/mol_K): 45.3\n",
      "sum_Mulliken_EN: 11.15\n",
      "sum_Nagle_electonegativity: 3.7699999999999996\n",
      "sum_Nearest_Neighbor_Distance(pm): 568.0\n",
      "sum_Number_of_unfilled_d_valence_electrons: 20.0\n",
      "sum_Number_of_unfilled_f_valence_electrons: 28.0\n",
      "sum_Number_of_unfilled_p_valence_electrons: 7.0\n",
      "sum_Number_of_unfilled_s_valence_electrons: 1.0\n",
      "sum_Orbital_Radius(pm): 243.8\n",
      "sum_Pauling_Electronegativity: 4.09\n",
      "sum_Pearson_abs_electonegativity: 11.15\n",
      "sum_Period: 6.0\n",
      "sum_Work_function: nan\n",
      "sum_Zunger_radii_sum: 3.66\n",
      "sum_abs_valence: 6.0\n",
      "sum_crystal_radius: 2.83\n",
      "sum_families: 9.0\n",
      "sum_gilmor_number_of_valence_electron: 8.0\n",
      "sum_group: 18.0\n",
      "sum_heat_atomization(kJ/mol): 230.0\n",
      "sum_heat_of_fusion_(kJ/mol)_: 5.83\n",
      "sum_heat_of_vaporization_(kJ/mol)_: 107.16\n",
      "sum_ionic_radius: 2.8\n",
      "sum_l_quantum_number: 1.0\n",
      "sum_metallic_valence: 1.0\n",
      "sum_number_of_valence_electrons: 8.0\n",
      "sum_nws(e/au3): nan\n",
      "sum_outer_shell_electrons: 8.0\n",
      "sum_polarizability(A^3): 25.8\n",
      "sum_specific_heat_(J/g_K)_: 1.71\n",
      "sum_thermal_conductivity_(W/(m_K))_: 141.01\n",
      "sum_valence_d: 0.0\n",
      "sum_valence_f: 0.0\n",
      "sum_valence_p: 5.0\n",
      "sum_valence_s: 3.0\n",
      "sum_volume(10-6m3): nan\n",
      "var_1st_ionization_potential_(kJ/mol): 285012.5\n",
      "var_Allred-Rockow_electronegativity: 2.0\n",
      "var_Atomic_Concentration(1e-23_cm-3): nan\n",
      "var_Atomic_Number: 18.0\n",
      "var_Atomic_Radus: 0.6160499999999999\n",
      "var_Atomic_Weight: 77.62580000000005\n",
      "var_B(Gpa): 16.244999999999997\n",
      "var_Boiling_Point_(K): 420994.88000000006\n",
      "var_Cohesive_energy: 0.04204999999999995\n",
      "var_Covalent_Radius: 0.15125000000000002\n",
      "var_Critical_Temperature: 2324254.2408\n",
      "var_Density_(g/mL): 0.47045\n",
      "var_G: nan\n",
      "var_Gordy_electonegativity: 9.245\n",
      "var_High_Temp_Debye(K): nan\n",
      "var_Low_Temp_Debye(K): nan\n",
      "var_MB_electonegativity: 2.1840499999999996\n",
      "var_Melting_point_(K): 19760.719999999994\n",
      "var_Mendele_Number: 4232.0\n",
      "var_Miracle_Radius_[pm]: nan\n",
      "var_Molar_Denstiy_(mol/ml): 0.0008\n",
      "var_Molar_Heat_Capacity(J/mol_K): 63.39380000000001\n",
      "var_Mulliken_EN: 14.851250000000004\n",
      "var_Nagle_electonegativity: 1.7484499999999998\n",
      "var_Nearest_Neighbor_Distance(pm): 13448.0\n",
      "var_Number_of_unfilled_d_valence_electrons: 0.0\n",
      "var_Number_of_unfilled_f_valence_electrons: 0.0\n",
      "var_Number_of_unfilled_p_valence_electrons: 12.5\n",
      "var_Number_of_unfilled_s_valence_electrons: 0.5\n",
      "var_Orbital_Radius(pm): 4880.720000000001\n",
      "var_Pauling_Electronegativity: 2.48645\n",
      "var_Pearson_abs_electonegativity: 14.851250000000004\n",
      "var_Period: 0.0\n",
      "var_Work_function: nan\n",
      "var_Zunger_radii_sum: 1.3447999999999998\n",
      "var_abs_valence: 8.0\n",
      "var_crystal_radius: 0.13005\n",
      "var_families: 24.5\n",
      "var_gilmor_number_of_valence_electron: 18.0\n",
      "var_group: 128.0\n",
      "var_heat_atomization(kJ/mol): 72.0\n",
      "var_heat_of_fusion_(kJ/mol)_: 0.19844999999999993\n",
      "var_heat_of_vaporization_(kJ/mol)_: 3763.648799999999\n",
      "var_ionic_radius: 0.32000000000000006\n",
      "var_l_quantum_number: 0.5\n",
      "var_metallic_valence: 0.5\n",
      "var_number_of_valence_electrons: 18.0\n",
      "var_nws(e/au3): nan\n",
      "var_outer_shell_electrons: 18.0\n",
      "var_polarizability(A^3): 228.98000000000002\n",
      "var_specific_heat_(J/g_K)_: 0.28125\n",
      "var_thermal_conductivity_(W/(m_K))_: 9939.090049999999\n",
      "var_valence_d: 0.0\n",
      "var_valence_f: 0.0\n",
      "var_valence_p: 12.5\n",
      "var_valence_s: 0.5\n",
      "var_volume(10-6m3): nan\n",
      "range_1st_ionization_potential_(kJ/mol): 755.0\n",
      "range_Allred-Rockow_electronegativity: 2.0\n",
      "range_Atomic_Concentration(1e-23_cm-3): 0.0\n",
      "range_Atomic_Number: 6.0\n",
      "range_Atomic_Radus: 1.1099999999999999\n",
      "range_Atomic_Weight: 12.460000000000004\n",
      "range_B(Gpa): 5.699999999999999\n",
      "range_Boiling_Point_(K): 917.6000000000001\n",
      "range_Cohesive_energy: 0.2899999999999998\n",
      "range_Covalent_Radius: 0.55\n",
      "range_Critical_Temperature: 2156.04\n",
      "range_Density_(g/mL): 0.97\n",
      "range_G: 0.0\n",
      "range_Gordy_electonegativity: 4.3\n",
      "range_High_Temp_Debye(K): 0.0\n",
      "range_Low_Temp_Debye(K): 0.0\n",
      "range_MB_electonegativity: 2.09\n",
      "range_Melting_point_(K): 198.79999999999998\n",
      "range_Mendele_Number: 92.0\n",
      "range_Miracle_Radius_[pm]: 0.0\n",
      "range_Molar_Denstiy_(mol/ml): 0.04\n",
      "range_Molar_Heat_Capacity(J/mol_K): 11.260000000000002\n",
      "range_Mulliken_EN: 5.450000000000001\n",
      "range_Nagle_electonegativity: 1.8699999999999999\n",
      "range_Nearest_Neighbor_Distance(pm): 164.0\n",
      "range_Number_of_unfilled_d_valence_electrons: 0.0\n",
      "range_Number_of_unfilled_f_valence_electrons: 0.0\n",
      "range_Number_of_unfilled_p_valence_electrons: 5.0\n",
      "range_Number_of_unfilled_s_valence_electrons: 1.0\n",
      "range_Orbital_Radius(pm): 98.80000000000001\n",
      "range_Pauling_Electronegativity: 2.23\n",
      "range_Pearson_abs_electonegativity: 5.450000000000001\n",
      "range_Period: 0.0\n",
      "range_Work_function: 0.0\n",
      "range_Zunger_radii_sum: 1.64\n",
      "range_abs_valence: 4.0\n",
      "range_crystal_radius: 0.51\n",
      "range_families: 7.0\n",
      "range_gilmor_number_of_valence_electron: 6.0\n",
      "range_group: 16.0\n",
      "range_heat_atomization(kJ/mol): 12.0\n",
      "range_heat_of_fusion_(kJ/mol)_: 0.6299999999999999\n",
      "range_heat_of_vaporization_(kJ/mol)_: 86.75999999999999\n",
      "range_ionic_radius: 0.8\n",
      "range_l_quantum_number: 1.0\n",
      "range_metallic_valence: 1.0\n",
      "range_number_of_valence_electrons: 6.0\n",
      "range_nws(e/au3): 0.0\n",
      "range_outer_shell_electrons: 6.0\n",
      "range_polarizability(A^3): 21.400000000000002\n",
      "range_specific_heat_(J/g_K)_: 0.75\n",
      "range_thermal_conductivity_(W/(m_K))_: 140.99\n",
      "range_valence_d: 0.0\n",
      "range_valence_f: 0.0\n",
      "range_valence_p: 5.0\n",
      "range_valence_s: 1.0\n",
      "range_volume(10-6m3): 0.0\n"
     ]
    }
   ],
   "source": [
    "# make an object to hold elemetal properties and functions to get features\n",
    "gf = MSE_ML_functions.Vectorize_Formula()\n",
    "\n",
    "# get an example feature vector\n",
    "feature_example = gf.get_features('NaCl')\n",
    "\n",
    "# print vector values and how we made them\n",
    "for feature, name in zip(feature_example, gf.column_names):\n",
    "    print(name + ':', feature)"
   ]
  },
  {
   "cell_type": "code",
   "execution_count": 4,
   "metadata": {},
   "outputs": [
    {
     "name": "stdout",
     "output_type": "stream",
     "text": [
      "The element: G0+ from formula GaAs0.1P0.9G1128 is not currently supported in our database\n"
     ]
    },
    {
     "data": {
      "text/html": [
       "<div>\n",
       "<style scoped>\n",
       "    .dataframe tbody tr th:only-of-type {\n",
       "        vertical-align: middle;\n",
       "    }\n",
       "\n",
       "    .dataframe tbody tr th {\n",
       "        vertical-align: top;\n",
       "    }\n",
       "\n",
       "    .dataframe thead th {\n",
       "        text-align: right;\n",
       "    }\n",
       "</style>\n",
       "<table border=\"1\" class=\"dataframe\">\n",
       "  <thead>\n",
       "    <tr style=\"text-align: right;\">\n",
       "      <th></th>\n",
       "      <th>avg_1st_ionization_potential_(kJ/mol)</th>\n",
       "      <th>avg_Allred-Rockow_electronegativity</th>\n",
       "      <th>avg_Atomic_Concentration(1e-23_cm-3)</th>\n",
       "      <th>avg_Atomic_Number</th>\n",
       "      <th>avg_Atomic_Radus</th>\n",
       "      <th>avg_Atomic_Weight</th>\n",
       "      <th>avg_B(Gpa)</th>\n",
       "      <th>avg_Boiling_Point_(K)</th>\n",
       "      <th>avg_Cohesive_energy</th>\n",
       "      <th>avg_Covalent_Radius</th>\n",
       "      <th>...</th>\n",
       "      <th>range_nws(e/au3)</th>\n",
       "      <th>range_outer_shell_electrons</th>\n",
       "      <th>range_polarizability(A^3)</th>\n",
       "      <th>range_specific_heat_(J/g_K)_</th>\n",
       "      <th>range_thermal_conductivity_(W/(m_K))_</th>\n",
       "      <th>range_valence_d</th>\n",
       "      <th>range_valence_f</th>\n",
       "      <th>range_valence_p</th>\n",
       "      <th>range_valence_s</th>\n",
       "      <th>range_volume(10-6m3)</th>\n",
       "    </tr>\n",
       "  </thead>\n",
       "  <tbody>\n",
       "    <tr>\n",
       "      <th>0</th>\n",
       "      <td>917.150</td>\n",
       "      <td>1.92400</td>\n",
       "      <td>3.6570</td>\n",
       "      <td>61.20</td>\n",
       "      <td>1.455</td>\n",
       "      <td>150.86800</td>\n",
       "      <td>53.5200</td>\n",
       "      <td>1007.750</td>\n",
       "      <td>1.5035</td>\n",
       "      <td>1.4185</td>\n",
       "      <td>...</td>\n",
       "      <td>0.00</td>\n",
       "      <td>0.0</td>\n",
       "      <td>1.80</td>\n",
       "      <td>0.091</td>\n",
       "      <td>94.45</td>\n",
       "      <td>0.0</td>\n",
       "      <td>14.0</td>\n",
       "      <td>4.0</td>\n",
       "      <td>0.0</td>\n",
       "      <td>1.08</td>\n",
       "    </tr>\n",
       "    <tr>\n",
       "      <th>1</th>\n",
       "      <td>942.500</td>\n",
       "      <td>2.27000</td>\n",
       "      <td>5.4050</td>\n",
       "      <td>32.00</td>\n",
       "      <td>1.195</td>\n",
       "      <td>71.72500</td>\n",
       "      <td>69.9500</td>\n",
       "      <td>1586.050</td>\n",
       "      <td>2.3550</td>\n",
       "      <td>1.2600</td>\n",
       "      <td>...</td>\n",
       "      <td>0.00</td>\n",
       "      <td>6.0</td>\n",
       "      <td>3.60</td>\n",
       "      <td>0.090</td>\n",
       "      <td>400.88</td>\n",
       "      <td>10.0</td>\n",
       "      <td>0.0</td>\n",
       "      <td>5.0</td>\n",
       "      <td>1.0</td>\n",
       "      <td>0.00</td>\n",
       "    </tr>\n",
       "    <tr>\n",
       "      <th>2</th>\n",
       "      <td>768.000</td>\n",
       "      <td>1.67000</td>\n",
       "      <td>NaN</td>\n",
       "      <td>43.00</td>\n",
       "      <td>1.575</td>\n",
       "      <td>102.96850</td>\n",
       "      <td>39.0000</td>\n",
       "      <td>2114.150</td>\n",
       "      <td>3.9300</td>\n",
       "      <td>1.3300</td>\n",
       "      <td>...</td>\n",
       "      <td>2.58</td>\n",
       "      <td>3.0</td>\n",
       "      <td>18.30</td>\n",
       "      <td>0.620</td>\n",
       "      <td>16.16</td>\n",
       "      <td>1.0</td>\n",
       "      <td>14.0</td>\n",
       "      <td>3.0</td>\n",
       "      <td>0.0</td>\n",
       "      <td>9.17</td>\n",
       "    </tr>\n",
       "    <tr>\n",
       "      <th>3</th>\n",
       "      <td>854.125</td>\n",
       "      <td>2.15625</td>\n",
       "      <td>5.4175</td>\n",
       "      <td>34.25</td>\n",
       "      <td>1.225</td>\n",
       "      <td>78.53125</td>\n",
       "      <td>60.6875</td>\n",
       "      <td>1822.025</td>\n",
       "      <td>2.8825</td>\n",
       "      <td>1.2700</td>\n",
       "      <td>...</td>\n",
       "      <td>1.18</td>\n",
       "      <td>5.0</td>\n",
       "      <td>2.90</td>\n",
       "      <td>0.170</td>\n",
       "      <td>400.48</td>\n",
       "      <td>10.0</td>\n",
       "      <td>0.0</td>\n",
       "      <td>4.0</td>\n",
       "      <td>1.0</td>\n",
       "      <td>9.83</td>\n",
       "    </tr>\n",
       "    <tr>\n",
       "      <th>4</th>\n",
       "      <td>1110.000</td>\n",
       "      <td>2.60000</td>\n",
       "      <td>NaN</td>\n",
       "      <td>19.00</td>\n",
       "      <td>0.950</td>\n",
       "      <td>40.69500</td>\n",
       "      <td>35.8250</td>\n",
       "      <td>634.650</td>\n",
       "      <td>1.9850</td>\n",
       "      <td>1.0200</td>\n",
       "      <td>...</td>\n",
       "      <td>0.00</td>\n",
       "      <td>4.0</td>\n",
       "      <td>5.61</td>\n",
       "      <td>0.530</td>\n",
       "      <td>115.97</td>\n",
       "      <td>10.0</td>\n",
       "      <td>0.0</td>\n",
       "      <td>4.0</td>\n",
       "      <td>0.0</td>\n",
       "      <td>0.00</td>\n",
       "    </tr>\n",
       "  </tbody>\n",
       "</table>\n",
       "<p>5 rows × 228 columns</p>\n",
       "</div>"
      ],
      "text/plain": [
       "   avg_1st_ionization_potential_(kJ/mol)  avg_Allred-Rockow_electronegativity  \\\n",
       "0                                917.150                              1.92400   \n",
       "1                                942.500                              2.27000   \n",
       "2                                768.000                              1.67000   \n",
       "3                                854.125                              2.15625   \n",
       "4                               1110.000                              2.60000   \n",
       "\n",
       "   avg_Atomic_Concentration(1e-23_cm-3)  avg_Atomic_Number  avg_Atomic_Radus  \\\n",
       "0                                3.6570              61.20             1.455   \n",
       "1                                5.4050              32.00             1.195   \n",
       "2                                   NaN              43.00             1.575   \n",
       "3                                5.4175              34.25             1.225   \n",
       "4                                   NaN              19.00             0.950   \n",
       "\n",
       "   avg_Atomic_Weight  avg_B(Gpa)  avg_Boiling_Point_(K)  avg_Cohesive_energy  \\\n",
       "0          150.86800     53.5200               1007.750               1.5035   \n",
       "1           71.72500     69.9500               1586.050               2.3550   \n",
       "2          102.96850     39.0000               2114.150               3.9300   \n",
       "3           78.53125     60.6875               1822.025               2.8825   \n",
       "4           40.69500     35.8250                634.650               1.9850   \n",
       "\n",
       "   avg_Covalent_Radius          ...           range_nws(e/au3)  \\\n",
       "0               1.4185          ...                       0.00   \n",
       "1               1.2600          ...                       0.00   \n",
       "2               1.3300          ...                       2.58   \n",
       "3               1.2700          ...                       1.18   \n",
       "4               1.0200          ...                       0.00   \n",
       "\n",
       "   range_outer_shell_electrons  range_polarizability(A^3)  \\\n",
       "0                          0.0                       1.80   \n",
       "1                          6.0                       3.60   \n",
       "2                          3.0                      18.30   \n",
       "3                          5.0                       2.90   \n",
       "4                          4.0                       5.61   \n",
       "\n",
       "   range_specific_heat_(J/g_K)_  range_thermal_conductivity_(W/(m_K))_  \\\n",
       "0                         0.091                                  94.45   \n",
       "1                         0.090                                 400.88   \n",
       "2                         0.620                                  16.16   \n",
       "3                         0.170                                 400.48   \n",
       "4                         0.530                                 115.97   \n",
       "\n",
       "   range_valence_d  range_valence_f  range_valence_p  range_valence_s  \\\n",
       "0              0.0             14.0              4.0              0.0   \n",
       "1             10.0              0.0              5.0              1.0   \n",
       "2              1.0             14.0              3.0              0.0   \n",
       "3             10.0              0.0              4.0              1.0   \n",
       "4             10.0              0.0              4.0              0.0   \n",
       "\n",
       "   range_volume(10-6m3)  \n",
       "0                  1.08  \n",
       "1                  0.00  \n",
       "2                  9.17  \n",
       "3                  9.83  \n",
       "4                  0.00  \n",
       "\n",
       "[5 rows x 228 columns]"
      ]
     },
     "execution_count": 4,
     "metadata": {},
     "output_type": "execute_result"
    }
   ],
   "source": [
    "# make empty list where we will store the feature vectors\n",
    "features = []\n",
    "# make empty list where we will store the property value\n",
    "targets = []\n",
    "\n",
    "# add the values to the list using a for loop\n",
    "for formula, target in zip(df['composition'], df['Eg (eV)']):\n",
    "    features.append(gf.get_features(formula))\n",
    "    targets.append(target)\n",
    "\n",
    "# split feature vectors and targets as X and y\n",
    "X = pd.DataFrame(features, columns = gf.column_names)\n",
    "y = pd.Series(targets)\n",
    "\n",
    "# show what the feature vectors look like. Each row is a new formula.\n",
    "X.head()"
   ]
  },
  {
   "cell_type": "code",
   "execution_count": 5,
   "metadata": {},
   "outputs": [
    {
     "data": {
      "text/plain": [
       "0    0.350\n",
       "1    3.077\n",
       "2    1.300\n",
       "3    0.400\n",
       "4    3.436\n",
       "dtype: float64"
      ]
     },
     "execution_count": 5,
     "metadata": {},
     "output_type": "execute_result"
    }
   ],
   "source": [
    "y.head()"
   ]
  },
  {
   "cell_type": "markdown",
   "metadata": {},
   "source": [
    "## Process formula based feature vector remove rows containing elements for which we don't have data ##"
   ]
  },
  {
   "cell_type": "code",
   "execution_count": 6,
   "metadata": {},
   "outputs": [],
   "source": [
    "# drop elements that aren't included in the elmenetal properties list. These\n",
    "# will be returned as feature rows completely full of Nan values.\n",
    "X.dropna(inplace=True, how='all')\n",
    "y = y.loc[X.index]\n",
    "\n",
    "# reset dataframe indices to simplify code later.\n",
    "X.reset_index(drop=True, inplace=True)\n",
    "y.reset_index(drop=True, inplace=True)"
   ]
  },
  {
   "cell_type": "markdown",
   "metadata": {},
   "source": [
    "## Missing values can be created when certain elemental properties are missing. These need to be replaced before the ML process. They are filled with the mean values for each column"
   ]
  },
  {
   "cell_type": "code",
   "execution_count": 7,
   "metadata": {},
   "outputs": [
    {
     "data": {
      "text/html": [
       "<div>\n",
       "<style scoped>\n",
       "    .dataframe tbody tr th:only-of-type {\n",
       "        vertical-align: middle;\n",
       "    }\n",
       "\n",
       "    .dataframe tbody tr th {\n",
       "        vertical-align: top;\n",
       "    }\n",
       "\n",
       "    .dataframe thead th {\n",
       "        text-align: right;\n",
       "    }\n",
       "</style>\n",
       "<table border=\"1\" class=\"dataframe\">\n",
       "  <thead>\n",
       "    <tr style=\"text-align: right;\">\n",
       "      <th></th>\n",
       "      <th>avg_1st_ionization_potential_(kJ/mol)</th>\n",
       "      <th>avg_Allred-Rockow_electronegativity</th>\n",
       "      <th>avg_Atomic_Concentration(1e-23_cm-3)</th>\n",
       "      <th>avg_Atomic_Number</th>\n",
       "      <th>avg_Atomic_Radus</th>\n",
       "      <th>avg_Atomic_Weight</th>\n",
       "      <th>avg_B(Gpa)</th>\n",
       "      <th>avg_Boiling_Point_(K)</th>\n",
       "      <th>avg_Cohesive_energy</th>\n",
       "      <th>avg_Covalent_Radius</th>\n",
       "      <th>...</th>\n",
       "      <th>range_nws(e/au3)</th>\n",
       "      <th>range_outer_shell_electrons</th>\n",
       "      <th>range_polarizability(A^3)</th>\n",
       "      <th>range_specific_heat_(J/g_K)_</th>\n",
       "      <th>range_thermal_conductivity_(W/(m_K))_</th>\n",
       "      <th>range_valence_d</th>\n",
       "      <th>range_valence_f</th>\n",
       "      <th>range_valence_p</th>\n",
       "      <th>range_valence_s</th>\n",
       "      <th>range_volume(10-6m3)</th>\n",
       "    </tr>\n",
       "  </thead>\n",
       "  <tbody>\n",
       "    <tr>\n",
       "      <th>0</th>\n",
       "      <td>917.150</td>\n",
       "      <td>1.92400</td>\n",
       "      <td>3.657000</td>\n",
       "      <td>61.20</td>\n",
       "      <td>1.455</td>\n",
       "      <td>150.86800</td>\n",
       "      <td>53.5200</td>\n",
       "      <td>1007.750</td>\n",
       "      <td>1.5035</td>\n",
       "      <td>1.4185</td>\n",
       "      <td>...</td>\n",
       "      <td>0.00</td>\n",
       "      <td>0.0</td>\n",
       "      <td>1.80</td>\n",
       "      <td>0.091</td>\n",
       "      <td>94.45</td>\n",
       "      <td>0.0</td>\n",
       "      <td>14.0</td>\n",
       "      <td>4.0</td>\n",
       "      <td>0.0</td>\n",
       "      <td>1.08</td>\n",
       "    </tr>\n",
       "    <tr>\n",
       "      <th>1</th>\n",
       "      <td>942.500</td>\n",
       "      <td>2.27000</td>\n",
       "      <td>5.405000</td>\n",
       "      <td>32.00</td>\n",
       "      <td>1.195</td>\n",
       "      <td>71.72500</td>\n",
       "      <td>69.9500</td>\n",
       "      <td>1586.050</td>\n",
       "      <td>2.3550</td>\n",
       "      <td>1.2600</td>\n",
       "      <td>...</td>\n",
       "      <td>0.00</td>\n",
       "      <td>6.0</td>\n",
       "      <td>3.60</td>\n",
       "      <td>0.090</td>\n",
       "      <td>400.88</td>\n",
       "      <td>10.0</td>\n",
       "      <td>0.0</td>\n",
       "      <td>5.0</td>\n",
       "      <td>1.0</td>\n",
       "      <td>0.00</td>\n",
       "    </tr>\n",
       "    <tr>\n",
       "      <th>2</th>\n",
       "      <td>768.000</td>\n",
       "      <td>1.67000</td>\n",
       "      <td>876.793225</td>\n",
       "      <td>43.00</td>\n",
       "      <td>1.575</td>\n",
       "      <td>102.96850</td>\n",
       "      <td>39.0000</td>\n",
       "      <td>2114.150</td>\n",
       "      <td>3.9300</td>\n",
       "      <td>1.3300</td>\n",
       "      <td>...</td>\n",
       "      <td>2.58</td>\n",
       "      <td>3.0</td>\n",
       "      <td>18.30</td>\n",
       "      <td>0.620</td>\n",
       "      <td>16.16</td>\n",
       "      <td>1.0</td>\n",
       "      <td>14.0</td>\n",
       "      <td>3.0</td>\n",
       "      <td>0.0</td>\n",
       "      <td>9.17</td>\n",
       "    </tr>\n",
       "    <tr>\n",
       "      <th>3</th>\n",
       "      <td>854.125</td>\n",
       "      <td>2.15625</td>\n",
       "      <td>5.417500</td>\n",
       "      <td>34.25</td>\n",
       "      <td>1.225</td>\n",
       "      <td>78.53125</td>\n",
       "      <td>60.6875</td>\n",
       "      <td>1822.025</td>\n",
       "      <td>2.8825</td>\n",
       "      <td>1.2700</td>\n",
       "      <td>...</td>\n",
       "      <td>1.18</td>\n",
       "      <td>5.0</td>\n",
       "      <td>2.90</td>\n",
       "      <td>0.170</td>\n",
       "      <td>400.48</td>\n",
       "      <td>10.0</td>\n",
       "      <td>0.0</td>\n",
       "      <td>4.0</td>\n",
       "      <td>1.0</td>\n",
       "      <td>9.83</td>\n",
       "    </tr>\n",
       "    <tr>\n",
       "      <th>4</th>\n",
       "      <td>1110.000</td>\n",
       "      <td>2.60000</td>\n",
       "      <td>876.793225</td>\n",
       "      <td>19.00</td>\n",
       "      <td>0.950</td>\n",
       "      <td>40.69500</td>\n",
       "      <td>35.8250</td>\n",
       "      <td>634.650</td>\n",
       "      <td>1.9850</td>\n",
       "      <td>1.0200</td>\n",
       "      <td>...</td>\n",
       "      <td>0.00</td>\n",
       "      <td>4.0</td>\n",
       "      <td>5.61</td>\n",
       "      <td>0.530</td>\n",
       "      <td>115.97</td>\n",
       "      <td>10.0</td>\n",
       "      <td>0.0</td>\n",
       "      <td>4.0</td>\n",
       "      <td>0.0</td>\n",
       "      <td>0.00</td>\n",
       "    </tr>\n",
       "  </tbody>\n",
       "</table>\n",
       "<p>5 rows × 228 columns</p>\n",
       "</div>"
      ],
      "text/plain": [
       "   avg_1st_ionization_potential_(kJ/mol)  avg_Allred-Rockow_electronegativity  \\\n",
       "0                                917.150                              1.92400   \n",
       "1                                942.500                              2.27000   \n",
       "2                                768.000                              1.67000   \n",
       "3                                854.125                              2.15625   \n",
       "4                               1110.000                              2.60000   \n",
       "\n",
       "   avg_Atomic_Concentration(1e-23_cm-3)  avg_Atomic_Number  avg_Atomic_Radus  \\\n",
       "0                              3.657000              61.20             1.455   \n",
       "1                              5.405000              32.00             1.195   \n",
       "2                            876.793225              43.00             1.575   \n",
       "3                              5.417500              34.25             1.225   \n",
       "4                            876.793225              19.00             0.950   \n",
       "\n",
       "   avg_Atomic_Weight  avg_B(Gpa)  avg_Boiling_Point_(K)  avg_Cohesive_energy  \\\n",
       "0          150.86800     53.5200               1007.750               1.5035   \n",
       "1           71.72500     69.9500               1586.050               2.3550   \n",
       "2          102.96850     39.0000               2114.150               3.9300   \n",
       "3           78.53125     60.6875               1822.025               2.8825   \n",
       "4           40.69500     35.8250                634.650               1.9850   \n",
       "\n",
       "   avg_Covalent_Radius          ...           range_nws(e/au3)  \\\n",
       "0               1.4185          ...                       0.00   \n",
       "1               1.2600          ...                       0.00   \n",
       "2               1.3300          ...                       2.58   \n",
       "3               1.2700          ...                       1.18   \n",
       "4               1.0200          ...                       0.00   \n",
       "\n",
       "   range_outer_shell_electrons  range_polarizability(A^3)  \\\n",
       "0                          0.0                       1.80   \n",
       "1                          6.0                       3.60   \n",
       "2                          3.0                      18.30   \n",
       "3                          5.0                       2.90   \n",
       "4                          4.0                       5.61   \n",
       "\n",
       "   range_specific_heat_(J/g_K)_  range_thermal_conductivity_(W/(m_K))_  \\\n",
       "0                         0.091                                  94.45   \n",
       "1                         0.090                                 400.88   \n",
       "2                         0.620                                  16.16   \n",
       "3                         0.170                                 400.48   \n",
       "4                         0.530                                 115.97   \n",
       "\n",
       "   range_valence_d  range_valence_f  range_valence_p  range_valence_s  \\\n",
       "0              0.0             14.0              4.0              0.0   \n",
       "1             10.0              0.0              5.0              1.0   \n",
       "2              1.0             14.0              3.0              0.0   \n",
       "3             10.0              0.0              4.0              1.0   \n",
       "4             10.0              0.0              4.0              0.0   \n",
       "\n",
       "   range_volume(10-6m3)  \n",
       "0                  1.08  \n",
       "1                  0.00  \n",
       "2                  9.17  \n",
       "3                  9.83  \n",
       "4                  0.00  \n",
       "\n",
       "[5 rows x 228 columns]"
      ]
     },
     "execution_count": 7,
     "metadata": {},
     "output_type": "execute_result"
    }
   ],
   "source": [
    "# get the column names\n",
    "cols = X.columns.values\n",
    "# find the mean value of each column\n",
    "mean_values = X[cols].mean()\n",
    "# fill the missing values in each column with the columns mean value\n",
    "X[cols]=X[cols].fillna(mean_values.iloc[0])\n",
    "\n",
    "# show that the missing values are filled\n",
    "X.head()"
   ]
  },
  {
   "cell_type": "markdown",
   "metadata": {},
   "source": [
    "## Break the data up into training and test sets. This lets us verify how well the model does on data that wasn't used in training"
   ]
  },
  {
   "cell_type": "code",
   "execution_count": 8,
   "metadata": {},
   "outputs": [],
   "source": [
    "# Here we randomly split our data to get training and test sets. The test set will consist of 1/4 the data\n",
    "X_train, X_test, y_train, y_test = model_selection.train_test_split(X, y, test_size=0.25, random_state=1)"
   ]
  },
  {
   "cell_type": "code",
   "execution_count": 22,
   "metadata": {},
   "outputs": [
    {
     "name": "stdout",
     "output_type": "stream",
     "text": [
      "2921\n",
      "974\n"
     ]
    }
   ],
   "source": [
    "print(len(X_train))\n",
    "print(len(X_test))"
   ]
  },
  {
   "cell_type": "markdown",
   "metadata": {},
   "source": [
    "## The training data can be used to create a machine learning model. We will try random forest regression, a simply and effective technique."
   ]
  },
  {
   "cell_type": "code",
   "execution_count": 9,
   "metadata": {},
   "outputs": [
    {
     "data": {
      "text/plain": [
       "RandomForestRegressor(bootstrap=True, criterion='mse', max_depth=None,\n",
       "           max_features='auto', max_leaf_nodes=None,\n",
       "           min_impurity_decrease=0.0, min_impurity_split=None,\n",
       "           min_samples_leaf=1, min_samples_split=2,\n",
       "           min_weight_fraction_leaf=0.0, n_estimators=200, n_jobs=-1,\n",
       "           oob_score=False, random_state=1, verbose=0, warm_start=False)"
      ]
     },
     "execution_count": 9,
     "metadata": {},
     "output_type": "execute_result"
    }
   ],
   "source": [
    "# we create a random forest object. This will be trained and \n",
    "# used to predict future results. \n",
    "rf = RandomForestRegressor(n_estimators=200, n_jobs=-1, random_state=1)\n",
    "\n",
    "# fit the model to the data. Also called training the model\n",
    "rf.fit(X_train, y_train)"
   ]
  },
  {
   "cell_type": "markdown",
   "metadata": {},
   "source": [
    "## Now that the model has been created, we can test it on the data we withheld during training"
   ]
  },
  {
   "cell_type": "code",
   "execution_count": 10,
   "metadata": {},
   "outputs": [
    {
     "name": "stdout",
     "output_type": "stream",
     "text": [
      "mse: 0.194419, rmse: 0.440930\n",
      "score: 0.9177829594776613\n"
     ]
    }
   ],
   "source": [
    "# score the model using predictions based on the testing set\n",
    "y_predict = rf.predict(X_test)\n",
    "\n",
    "mse = mean_squared_error(y_test, y_predict)\n",
    "rmse = np.sqrt(mse)\n",
    "print(\"mse: %f, rmse: %f\" % (mse, rmse))\n",
    "print('score:', rf.score(X_test, y_test))"
   ]
  },
  {
   "cell_type": "markdown",
   "metadata": {},
   "source": [
    "##  A simple plot allows us to quickly evaluate the performance"
   ]
  },
  {
   "cell_type": "code",
   "execution_count": 11,
   "metadata": {},
   "outputs": [
    {
     "data": {
      "text/plain": [
       "<matplotlib.legend.Legend at 0x20cdb0bbb00>"
      ]
     },
     "execution_count": 11,
     "metadata": {},
     "output_type": "execute_result"
    },
    {
     "data": {
      "image/png": "[encoded data removed]",
      "text/plain": [
       "<matplotlib.figure.Figure at 0x20cdcc5a5f8>"
      ]
     },
     "metadata": {},
     "output_type": "display_data"
    }
   ],
   "source": [
    "plt.figure(1, figsize=(10, 10))\n",
    "font = {'family': 'DejaVu Sans',\n",
    "        'weight': 'normal',\n",
    "        'size': 18}\n",
    "plt.rc('font', **font)\n",
    "\n",
    "plt.plot(y_test, y_predict, 'ro', markersize=12, mfc='none')\n",
    "plt.plot([0,1000],[0,1000], 'k', linewidth=2)\n",
    "plt.xlabel('Actual Eg (eV)')\n",
    "plt.ylabel('Predicted Eg (eV)')\n",
    "plt.xlim((0, max(y_test)))\n",
    "plt.ylim((0, max(y_test)))\n",
    "ticks = np.linspace(0, max(y_test), 5)\n",
    "plt.xticks(ticks)\n",
    "plt.yticks(ticks)\n",
    "plt.legend(['Default Random Forest','Ideal Performance'], loc='best', fontsize=15)\n"
   ]
  },
  {
   "cell_type": "markdown",
   "metadata": {},
   "source": [
    "## Another thing we can do is display the most important features used in the model. Important features are the features that most succesfully homoginize a group of data\n",
    "\n",
    "## For this model, we can calculate the feature importance using a function found in the import \"MSE_ML_functions\""
   ]
  },
  {
   "cell_type": "code",
   "execution_count": 12,
   "metadata": {},
   "outputs": [
    {
     "name": "stdout",
     "output_type": "stream",
     "text": [
      "Feature ranking:\n",
      "1. feature 45 (0.327) : avg_metallic_valence\n",
      "2. feature 11 (0.132) : avg_Density_(g/mL)\n",
      "3. feature 130 (0.024) : var_MB_electonegativity\n",
      "4. feature 182 (0.022) : range_Density_(g/mL)\n",
      "5. feature 137 (0.017) : var_Nagle_electonegativity\n",
      "6. feature 187 (0.016) : range_MB_electonegativity\n",
      "7. feature 141 (0.014) : var_Number_of_unfilled_p_valence_electrons\n",
      "8. feature 168 (0.013) : var_valence_p\n",
      "9. feature 25 (0.013) : avg_Number_of_unfilled_d_valence_electrons\n",
      "10. feature 68 (0.012) : sum_Density_(g/mL)\n"
     ]
    },
    {
     "data": {
      "image/png": "[encoded data removed]",
      "text/plain": [
       "<matplotlib.figure.Figure at 0x20cdb087a20>"
      ]
     },
     "metadata": {},
     "output_type": "display_data"
    }
   ],
   "source": [
    "# we can get feature importances from a model by passing the model and the training featres into the function below \n",
    "MSE_ML_functions.rf_feature_importance(rf, X_train, N=10)"
   ]
  },
  {
   "cell_type": "markdown",
   "metadata": {},
   "source": [
    "## Now that we have tested the performance of random foreset, lets try an support vector machine.\n",
    "\n",
    "## Before training the model, we will need to implement feature scaling and normalizatoin. "
   ]
  },
  {
   "cell_type": "code",
   "execution_count": 13,
   "metadata": {},
   "outputs": [
    {
     "data": {
      "text/plain": [
       "<matplotlib.axes._subplots.AxesSubplot at 0x20cdb15aba8>"
      ]
     },
     "execution_count": 13,
     "metadata": {},
     "output_type": "execute_result"
    },
    {
     "data": {
      "image/png": "[encoded data removed]",
      "text/plain": [
       "<matplotlib.figure.Figure at 0x20cdb1607f0>"
      ]
     },
     "metadata": {},
     "output_type": "display_data"
    }
   ],
   "source": [
    "# data distribution for the first column before scaling\n",
    "sns.distplot(X_train.iloc[:, 0], fit=norm)"
   ]
  },
  {
   "cell_type": "code",
   "execution_count": 14,
   "metadata": {},
   "outputs": [
    {
     "data": {
      "text/plain": [
       "<matplotlib.axes._subplots.AxesSubplot at 0x20cdb17ea90>"
      ]
     },
     "execution_count": 14,
     "metadata": {},
     "output_type": "execute_result"
    },
    {
     "data": {
      "image/png": "[encoded data removed]",
      "text/plain": [
       "<matplotlib.figure.Figure at 0x20cdb191f98>"
      ]
     },
     "metadata": {},
     "output_type": "display_data"
    }
   ],
   "source": [
    "# data distribution for the first row in the training set before normalizing\n",
    "sns.distplot(X_train.iloc[0], fit=norm)"
   ]
  },
  {
   "cell_type": "code",
   "execution_count": 15,
   "metadata": {},
   "outputs": [],
   "source": [
    "# scales each column of data to have a mean of 0 and a variance of 1\n",
    "scaler = preprocessing.StandardScaler().fit(X_train)\n",
    "\n",
    "X_train_scaled = scaler.transform(X_train)\n",
    "X_test_scaled = scaler.transform(X_test)\n",
    "\n",
    "# normalizes each row in the data\n",
    "normalizer = preprocessing.Normalizer().fit(X_train)\n",
    "\n",
    "X_train_processed = pd.DataFrame(normalizer.transform(X_train_scaled))\n",
    "X_test_processed = pd.DataFrame(normalizer.transform(X_test_scaled))"
   ]
  },
  {
   "cell_type": "code",
   "execution_count": 16,
   "metadata": {},
   "outputs": [
    {
     "data": {
      "text/plain": [
       "<matplotlib.axes._subplots.AxesSubplot at 0x20cdb17eac8>"
      ]
     },
     "execution_count": 16,
     "metadata": {},
     "output_type": "execute_result"
    },
    {
     "data": {
      "image/png": "[encoded data removed]",
      "text/plain": [
       "<matplotlib.figure.Figure at 0x20cdc938518>"
      ]
     },
     "metadata": {},
     "output_type": "display_data"
    }
   ],
   "source": [
    "# data distribution for the column after scaling\n",
    "sns.distplot(X_train_processed.iloc[:, 0], fit=norm)"
   ]
  },
  {
   "cell_type": "code",
   "execution_count": 17,
   "metadata": {},
   "outputs": [
    {
     "data": {
      "text/plain": [
       "<matplotlib.axes._subplots.AxesSubplot at 0x20cdca54b70>"
      ]
     },
     "execution_count": 17,
     "metadata": {},
     "output_type": "execute_result"
    },
    {
     "data": {
      "image/png": "[encoded data removed]",
      "text/plain": [
       "<matplotlib.figure.Figure at 0x20cdc9d1c18>"
      ]
     },
     "metadata": {},
     "output_type": "display_data"
    }
   ],
   "source": [
    "# datadistribution for row after normalizing\n",
    "sns.distplot(X_train_processed.iloc[0], fit=norm)"
   ]
  },
  {
   "cell_type": "markdown",
   "metadata": {},
   "source": [
    "## Now that we have scaled the features columns and normalized the feature vectors, we can make a prediction with an SVM."
   ]
  },
  {
   "cell_type": "code",
   "execution_count": 18,
   "metadata": {},
   "outputs": [
    {
     "name": "stdout",
     "output_type": "stream",
     "text": [
      "mse: 1.316602, rmse: 1.147433\n",
      "0.44322888398138494\n"
     ]
    }
   ],
   "source": [
    "# create defaul support vector object \n",
    "svr = SVR()\n",
    "\n",
    "# train the a model based on support vector regression\n",
    "svr.fit(X_train_processed, y_train)\n",
    "\n",
    "# predict the withheld data\n",
    "y_predict = svr.predict(X_test_processed)\n",
    "\n",
    "# get performance metrics\n",
    "mse = mean_squared_error(y_test, y_predict)\n",
    "rmse = np.sqrt(mse)\n",
    "print(\"mse: %f, rmse: %f\" % (mse, rmse))\n",
    "print(svr.score(X_test_processed, y_test))\n"
   ]
  },
  {
   "cell_type": "code",
   "execution_count": 19,
   "metadata": {},
   "outputs": [
    {
     "data": {
      "text/plain": [
       "SVR(C=1.0, cache_size=200, coef0=0.0, degree=3, epsilon=0.1, gamma='auto',\n",
       "  kernel='rbf', max_iter=-1, shrinking=True, tol=0.001, verbose=False)"
      ]
     },
     "execution_count": 19,
     "metadata": {},
     "output_type": "execute_result"
    }
   ],
   "source": [
    "# print the default values for svr\n",
    "svr"
   ]
  },
  {
   "cell_type": "markdown",
   "metadata": {},
   "source": [
    "## The default SVM doesn't perform well. We can try to improve performance by implementing a grid search. This is a way of optimizing parameters that we think could be important."
   ]
  },
  {
   "cell_type": "code",
   "execution_count": 20,
   "metadata": {},
   "outputs": [
    {
     "name": "stdout",
     "output_type": "stream",
     "text": [
      "{'C': 10, 'gamma': 1}\n",
      "mse: 0.211656, rmse: 0.460060\n",
      "0.9104940668538796\n"
     ]
    }
   ],
   "source": [
    "# choose paramters from grid search\n",
    "param_grid = {'C': [1, 10, 100], 'gamma': [0.1, 1, 10]}\n",
    "\n",
    "# set up grid and fit with training data\n",
    "grid = model_selection.GridSearchCV(SVR(), param_grid=param_grid, cv=5)\n",
    "grid.fit(X_train_processed, y_train)\n",
    "\n",
    "# get prediction from best model built in grid search\n",
    "svm_y_predict = grid.predict(X_test_processed)\n",
    "\n",
    "# print the optimal parameters from search space\n",
    "print(grid.best_params_)\n",
    "\n",
    "# get performance metrics\n",
    "mse = mean_squared_error(y_test, svm_y_predict)\n",
    "rmse = np.sqrt(mse)\n",
    "print(\"mse: %f, rmse: %f\" % (mse, rmse))\n",
    "print(grid.score(X_test_processed, y_test))"
   ]
  },
  {
   "cell_type": "markdown",
   "metadata": {},
   "source": [
    "## We can see there is a large improvement the model. These results are satisfactory, matching close to those of the random forest predictions. If we aren't content with this performance, we can try changing the kernal space, or reducing the number of features we are using. "
   ]
  },
  {
   "cell_type": "code",
   "execution_count": null,
   "metadata": {},
   "outputs": [],
   "source": []
  }
 ],
 "metadata": {
  "kernelspec": {
   "display_name": "Python 3",
   "language": "python",
   "name": "python3"
  },
  "language_info": {
   "codemirror_mode": {
    "name": "ipython",
    "version": 3
   },
   "file_extension": ".py",
   "mimetype": "text/x-python",
   "name": "python",
   "nbconvert_exporter": "python",
   "pygments_lexer": "ipython3",
   "version": "3.6.4"
  }
 },
 "nbformat": 4,
 "nbformat_minor": 2
}
